{
 "cells": [
  {
   "cell_type": "code",
   "execution_count": 1,
   "metadata": {
    "ExecuteTime": {
     "end_time": "2019-05-08T17:52:19.398833Z",
     "start_time": "2019-05-08T17:52:18.866053Z"
    },
    "collapsed": true
   },
   "outputs": [],
   "source": [
    "import numpy as np\n",
    "import time"
   ]
  },
  {
   "cell_type": "code",
   "execution_count": 2,
   "metadata": {
    "ExecuteTime": {
     "end_time": "2019-05-08T17:52:29.806334Z",
     "start_time": "2019-05-08T17:52:19.398833Z"
    },
    "collapsed": true
   },
   "outputs": [],
   "source": [
    "predictions = np.abs(np.random.normal(0, 1, (125, 64, 64, 262)))\n",
    "soft_encoded = np.abs(np.random.normal(0, 1, (125, 64, 64, 262)))\n",
    "weights = {}\n",
    "for i in range(262):\n",
    "    weights[i] = np.random.randn()\n"
   ]
  },
  {
   "cell_type": "code",
   "execution_count": 21,
   "metadata": {
    "ExecuteTime": {
     "end_time": "2019-05-08T17:55:01.966470Z",
     "start_time": "2019-05-08T17:55:01.949514Z"
    },
    "collapsed": true
   },
   "outputs": [],
   "source": [
    "def multinomial_loss0(predictions, soft_encodeds, weights):\n",
    "    now = time.time()\n",
    "    \"\"\"\n",
    "    :param predictions: np.array, dimensions should be (n, h, w, q)\n",
    "    :param soft_encoded: np.array, dimensions should be (n, h, w, q)\n",
    "    Make sure all values are between 0 and 1, and that the sum of soft_encoded = 1\n",
    "    :return: loss\n",
    "    \"\"\"\n",
    "\n",
    "    losses = 0\n",
    "    for i in range(predictions.shape[0]):\n",
    "        loss = 0\n",
    "        for h in range(predictions.shape[1]):\n",
    "            for w in range(predictions.shape[2]):\n",
    "                bins = np.argmax(soft_encodeds[i, h, w])\n",
    "                loss += weights[bins] * np.matmul(soft_encodeds[i, h, w], np.log(predictions[i, h, w] + 0.000000000000000001))\n",
    "        \n",
    "        loss = - loss\n",
    "        losses += loss\n",
    "    time_taken = time.time() - now\n",
    "    print('    Time taken:', time_taken, 'with loss', losses)\n",
    "\n",
    "    return losses, time_taken"
   ]
  },
  {
   "cell_type": "code",
   "execution_count": 22,
   "metadata": {
    "ExecuteTime": {
     "end_time": "2019-05-08T17:56:23.866589Z",
     "start_time": "2019-05-08T17:55:02.123051Z"
    },
    "scrolled": false
   },
   "outputs": [
    {
     "name": "stdout",
     "output_type": "stream",
     "text": [
      "    Time taken: 4.121997356414795 with loss -2773879.4574989364\n",
      "    Time taken: 4.166043043136597 with loss -2773879.4574989364\n",
      "    Time taken: 4.080061435699463 with loss -2773879.4574989364\n",
      "    Time taken: 4.086757183074951 with loss -2773879.4574989364\n",
      "    Time taken: 4.067504644393921 with loss -2773879.4574989364\n",
      "    Time taken: 4.0029919147491455 with loss -2773879.4574989364\n",
      "    Time taken: 4.062028408050537 with loss -2773879.4574989364\n",
      "    Time taken: 3.9779305458068848 with loss -2773879.4574989364\n",
      "    Time taken: 4.000293731689453 with loss -2773879.4574989364\n",
      "    Time taken: 4.000651121139526 with loss -2773879.4574989364\n",
      "    Time taken: 3.9904818534851074 with loss -2773879.4574989364\n",
      "    Time taken: 3.9608113765716553 with loss -2773879.4574989364\n",
      "    Time taken: 4.109370231628418 with loss -2773879.4574989364\n",
      "    Time taken: 3.9300451278686523 with loss -2773879.4574989364\n",
      "    Time taken: 4.333700180053711 with loss -2773879.4574989364\n",
      "    Time taken: 3.979355812072754 with loss -2773879.4574989364\n",
      "    Time taken: 4.171799182891846 with loss -2773879.4574989364\n",
      "    Time taken: 4.505942106246948 with loss -2773879.4574989364\n",
      "    Time taken: 4.23267674446106 with loss -2773879.4574989364\n",
      "    Time taken: 3.9424877166748047 with loss -2773879.4574989364\n",
      "81.72292971611023\n"
     ]
    }
   ],
   "source": [
    "total_time = 0\n",
    "for i in range(20):\n",
    "    l, t = multinomial_loss0(predictions, soft_encoded, weights)\n",
    "    total_time += t\n",
    "print(total_time)"
   ]
  },
  {
   "cell_type": "code",
   "execution_count": 38,
   "metadata": {
    "ExecuteTime": {
     "end_time": "2019-05-08T18:26:36.610943Z",
     "start_time": "2019-05-08T18:26:36.582022Z"
    },
    "collapsed": true
   },
   "outputs": [],
   "source": [
    "def get_weights(q, weights):\n",
    "    return (weights[np.argmax(q)])\n",
    "    \n",
    "def multinomial_loss(predictions, soft_encodeds, weights):\n",
    "    now = time.time()\n",
    "    \"\"\"\n",
    "    :param predictions: np.array, dimensions should be (n, h, w, q)\n",
    "    :param soft_encoded: np.array, dimensions should be (n, h, w, q)\n",
    "    Make sure all values are between 0 and 1, and that the sum of soft_encoded = 1\n",
    "    :return: loss\n",
    "    \"\"\"\n",
    "\n",
    "    losses = 0\n",
    "    for i in range(predictions.shape[0]):\n",
    "        loss = 0\n",
    "        for h in range(predictions.shape[1]):\n",
    "            vs = np.array([weights[np.argmax(x)] for x in soft_encoded[i, h]])\n",
    "            loss = vs[:, np.newaxis] * np.dot(soft_encodeds[i, h], np.log(predictions[i, h] + 0.000000000000000001).transpose())\n",
    "            loss = np.diag(loss)\n",
    "            loss = - loss\n",
    "            loss = np.sum(loss)\n",
    "            losses += loss\n",
    "    time_taken = time.time() - now\n",
    "    print('Time taken:', time_taken, 'with loss', losses)\n",
    "\n",
    "    return losses, time_taken"
   ]
  },
  {
   "cell_type": "code",
   "execution_count": 39,
   "metadata": {
    "ExecuteTime": {
     "end_time": "2019-05-08T18:28:04.781034Z",
     "start_time": "2019-05-08T18:26:36.931121Z"
    }
   },
   "outputs": [
    {
     "name": "stdout",
     "output_type": "stream",
     "text": [
      "Time taken: 3.726029634475708 with loss -2773879.4574989234\n",
      "Time taken: 4.050163745880127 with loss -2773879.4574989234\n",
      "Time taken: 3.971374273300171 with loss -2773879.4574989234\n",
      "Time taken: 3.7100729942321777 with loss -2773879.4574989234\n",
      "Time taken: 3.940457344055176 with loss -2773879.4574989234\n",
      "Time taken: 4.091053485870361 with loss -2773879.4574989234\n",
      "Time taken: 4.265594005584717 with loss -2773879.4574989234\n",
      "Time taken: 4.780210971832275 with loss -2773879.4574989234\n",
      "Time taken: 4.266583681106567 with loss -2773879.4574989234\n",
      "Time taken: 4.078090190887451 with loss -2773879.4574989234\n",
      "Time taken: 4.125960350036621 with loss -2773879.4574989234\n",
      "Time taken: 4.817111253738403 with loss -2773879.4574989234\n",
      "Time taken: 5.1272828578948975 with loss -2773879.4574989234\n",
      "Time taken: 5.081403970718384 with loss -2773879.4574989234\n",
      "Time taken: 4.584731578826904 with loss -2773879.4574989234\n",
      "Time taken: 5.116311550140381 with loss -2773879.4574989234\n",
      "Time taken: 4.99962306022644 with loss -2773879.4574989234\n",
      "Time taken: 4.523895740509033 with loss -2773879.4574989234\n",
      "Time taken: 4.342381477355957 with loss -2773879.4574989234\n",
      "Time taken: 4.241651296615601 with loss -2773879.4574989234\n",
      "87.83998346328735\n"
     ]
    }
   ],
   "source": [
    "total_time = 0\n",
    "for i in range(20):\n",
    "    l, t = multinomial_loss(predictions, soft_encoded, weights)\n",
    "    total_time += t\n",
    "print(total_time)"
   ]
  },
  {
   "cell_type": "code",
   "execution_count": 33,
   "metadata": {
    "ExecuteTime": {
     "end_time": "2019-05-08T18:25:23.032809Z",
     "start_time": "2019-05-08T18:25:23.004884Z"
    },
    "collapsed": true
   },
   "outputs": [],
   "source": [
    "def get_weights(weights, i):\n",
    "    return weights[i]\n",
    "    \n",
    "def multinomial_loss(predictions, soft_encodeds, weights):\n",
    "    now = time.time()\n",
    "    \"\"\"\n",
    "    :param predictions: np.array, dimensions should be (n, h, w, q)\n",
    "    :param soft_encoded: np.array, dimensions should be (n, h, w, q)\n",
    "    Make sure all values are between 0 and 1, and that the sum of soft_encoded = 1\n",
    "    :return: loss\n",
    "    \"\"\"\n",
    "\n",
    "    losses = 0\n",
    "    \n",
    "    vs = np.apply_along_axis(np.argmax, 3, soft_encodeds)\n",
    "    func = np.vectorize(lambda x : weights[x])\n",
    "    vs = func(vs)\n",
    "    for i in range(predictions.shape[0]):\n",
    "        loss = 0\n",
    "        for h in range(predictions.shape[1]):\n",
    "            loss = vs[i, h] * np.dot(soft_encodeds[i, h], np.log(predictions[i, h] + 0.000000000000000001).transpose())\n",
    "            loss = np.diag(loss)\n",
    "            loss = - loss\n",
    "            loss = np.sum(loss)\n",
    "            losses += loss\n",
    "    time_taken = time.time() - now\n",
    "    print('Time taken:', time_taken, 'with loss', losses)\n",
    "\n",
    "    return losses, time_taken"
   ]
  },
  {
   "cell_type": "code",
   "execution_count": 34,
   "metadata": {
    "ExecuteTime": {
     "end_time": "2019-05-08T18:25:44.828852Z",
     "start_time": "2019-05-08T18:25:25.532448Z"
    },
    "collapsed": true
   },
   "outputs": [
    {
     "name": "stdout",
     "output_type": "stream",
     "text": [
      "Time taken: 4.383272409439087 with loss -2773879.4574989234\n",
      "Time taken: 4.540850400924683 with loss -2773879.4574989234\n",
      "Time taken: 4.350362539291382 with loss -2773879.4574989234\n",
      "Time taken: 4.313455820083618 with loss -2773879.4574989234\n"
     ]
    },
    {
     "ename": "KeyboardInterrupt",
     "evalue": "",
     "output_type": "error",
     "traceback": [
      "\u001b[1;31m---------------------------------------------------------------------------\u001b[0m",
      "\u001b[1;31mKeyboardInterrupt\u001b[0m                         Traceback (most recent call last)",
      "\u001b[1;32m<ipython-input-34-03317d24e7f5>\u001b[0m in \u001b[0;36m<module>\u001b[1;34m()\u001b[0m\n\u001b[0;32m      1\u001b[0m \u001b[0mtotal_time\u001b[0m \u001b[1;33m=\u001b[0m \u001b[1;36m0\u001b[0m\u001b[1;33m\u001b[0m\u001b[0m\n\u001b[0;32m      2\u001b[0m \u001b[1;32mfor\u001b[0m \u001b[0mi\u001b[0m \u001b[1;32min\u001b[0m \u001b[0mrange\u001b[0m\u001b[1;33m(\u001b[0m\u001b[1;36m20\u001b[0m\u001b[1;33m)\u001b[0m\u001b[1;33m:\u001b[0m\u001b[1;33m\u001b[0m\u001b[0m\n\u001b[1;32m----> 3\u001b[1;33m     \u001b[0ml\u001b[0m\u001b[1;33m,\u001b[0m \u001b[0mt\u001b[0m \u001b[1;33m=\u001b[0m \u001b[0mmultinomial_loss\u001b[0m\u001b[1;33m(\u001b[0m\u001b[0mpredictions\u001b[0m\u001b[1;33m,\u001b[0m \u001b[0msoft_encoded\u001b[0m\u001b[1;33m,\u001b[0m \u001b[0mweights\u001b[0m\u001b[1;33m)\u001b[0m\u001b[1;33m\u001b[0m\u001b[0m\n\u001b[0m\u001b[0;32m      4\u001b[0m     \u001b[0mtotal_time\u001b[0m \u001b[1;33m+=\u001b[0m \u001b[0mt\u001b[0m\u001b[1;33m\u001b[0m\u001b[0m\n\u001b[0;32m      5\u001b[0m \u001b[0mprint\u001b[0m\u001b[1;33m(\u001b[0m\u001b[0mtotal_time\u001b[0m\u001b[1;33m)\u001b[0m\u001b[1;33m\u001b[0m\u001b[0m\n",
      "\u001b[1;32m<ipython-input-33-23a3902021d3>\u001b[0m in \u001b[0;36mmultinomial_loss\u001b[1;34m(predictions, soft_encodeds, weights)\u001b[0m\n\u001b[0;32m     13\u001b[0m     \u001b[0mlosses\u001b[0m \u001b[1;33m=\u001b[0m \u001b[1;36m0\u001b[0m\u001b[1;33m\u001b[0m\u001b[0m\n\u001b[0;32m     14\u001b[0m \u001b[1;33m\u001b[0m\u001b[0m\n\u001b[1;32m---> 15\u001b[1;33m     \u001b[0mvs\u001b[0m \u001b[1;33m=\u001b[0m \u001b[0mnp\u001b[0m\u001b[1;33m.\u001b[0m\u001b[0mapply_along_axis\u001b[0m\u001b[1;33m(\u001b[0m\u001b[0mnp\u001b[0m\u001b[1;33m.\u001b[0m\u001b[0margmax\u001b[0m\u001b[1;33m,\u001b[0m \u001b[1;36m3\u001b[0m\u001b[1;33m,\u001b[0m \u001b[0msoft_encodeds\u001b[0m\u001b[1;33m)\u001b[0m\u001b[1;33m\u001b[0m\u001b[0m\n\u001b[0m\u001b[0;32m     16\u001b[0m     \u001b[0mfunc\u001b[0m \u001b[1;33m=\u001b[0m \u001b[0mnp\u001b[0m\u001b[1;33m.\u001b[0m\u001b[0mvectorize\u001b[0m\u001b[1;33m(\u001b[0m\u001b[1;32mlambda\u001b[0m \u001b[0mx\u001b[0m \u001b[1;33m:\u001b[0m \u001b[0mweights\u001b[0m\u001b[1;33m[\u001b[0m\u001b[0mx\u001b[0m\u001b[1;33m]\u001b[0m\u001b[1;33m)\u001b[0m\u001b[1;33m\u001b[0m\u001b[0m\n\u001b[0;32m     17\u001b[0m     \u001b[0mvs\u001b[0m \u001b[1;33m=\u001b[0m \u001b[0mfunc\u001b[0m\u001b[1;33m(\u001b[0m\u001b[0mvs\u001b[0m\u001b[1;33m)\u001b[0m\u001b[1;33m\u001b[0m\u001b[0m\n",
      "\u001b[1;32mC:\\ProgramData\\Anaconda3\\lib\\site-packages\\numpy\\lib\\shape_base.py\u001b[0m in \u001b[0;36mapply_along_axis\u001b[1;34m(func1d, axis, arr, *args, **kwargs)\u001b[0m\n\u001b[0;32m    153\u001b[0m     \u001b[0mbuff\u001b[0m\u001b[1;33m[\u001b[0m\u001b[0mind0\u001b[0m\u001b[1;33m]\u001b[0m \u001b[1;33m=\u001b[0m \u001b[0mres\u001b[0m\u001b[1;33m\u001b[0m\u001b[0m\n\u001b[0;32m    154\u001b[0m     \u001b[1;32mfor\u001b[0m \u001b[0mind\u001b[0m \u001b[1;32min\u001b[0m \u001b[0minds\u001b[0m\u001b[1;33m:\u001b[0m\u001b[1;33m\u001b[0m\u001b[0m\n\u001b[1;32m--> 155\u001b[1;33m         \u001b[0mbuff\u001b[0m\u001b[1;33m[\u001b[0m\u001b[0mind\u001b[0m\u001b[1;33m]\u001b[0m \u001b[1;33m=\u001b[0m \u001b[0masanyarray\u001b[0m\u001b[1;33m(\u001b[0m\u001b[0mfunc1d\u001b[0m\u001b[1;33m(\u001b[0m\u001b[0minarr_view\u001b[0m\u001b[1;33m[\u001b[0m\u001b[0mind\u001b[0m\u001b[1;33m]\u001b[0m\u001b[1;33m,\u001b[0m \u001b[1;33m*\u001b[0m\u001b[0margs\u001b[0m\u001b[1;33m,\u001b[0m \u001b[1;33m**\u001b[0m\u001b[0mkwargs\u001b[0m\u001b[1;33m)\u001b[0m\u001b[1;33m)\u001b[0m\u001b[1;33m\u001b[0m\u001b[0m\n\u001b[0m\u001b[0;32m    156\u001b[0m \u001b[1;33m\u001b[0m\u001b[0m\n\u001b[0;32m    157\u001b[0m     \u001b[1;32mif\u001b[0m \u001b[1;32mnot\u001b[0m \u001b[0misinstance\u001b[0m\u001b[1;33m(\u001b[0m\u001b[0mres\u001b[0m\u001b[1;33m,\u001b[0m \u001b[0mmatrix\u001b[0m\u001b[1;33m)\u001b[0m\u001b[1;33m:\u001b[0m\u001b[1;33m\u001b[0m\u001b[0m\n",
      "\u001b[1;32mC:\\ProgramData\\Anaconda3\\lib\\site-packages\\numpy\\core\\fromnumeric.py\u001b[0m in \u001b[0;36margmax\u001b[1;34m(a, axis, out)\u001b[0m\n\u001b[0;32m   1002\u001b[0m \u001b[1;33m\u001b[0m\u001b[0m\n\u001b[0;32m   1003\u001b[0m     \"\"\"\n\u001b[1;32m-> 1004\u001b[1;33m     \u001b[1;32mreturn\u001b[0m \u001b[0m_wrapfunc\u001b[0m\u001b[1;33m(\u001b[0m\u001b[0ma\u001b[0m\u001b[1;33m,\u001b[0m \u001b[1;34m'argmax'\u001b[0m\u001b[1;33m,\u001b[0m \u001b[0maxis\u001b[0m\u001b[1;33m=\u001b[0m\u001b[0maxis\u001b[0m\u001b[1;33m,\u001b[0m \u001b[0mout\u001b[0m\u001b[1;33m=\u001b[0m\u001b[0mout\u001b[0m\u001b[1;33m)\u001b[0m\u001b[1;33m\u001b[0m\u001b[0m\n\u001b[0m\u001b[0;32m   1005\u001b[0m \u001b[1;33m\u001b[0m\u001b[0m\n\u001b[0;32m   1006\u001b[0m \u001b[1;33m\u001b[0m\u001b[0m\n",
      "\u001b[1;32mC:\\ProgramData\\Anaconda3\\lib\\site-packages\\numpy\\core\\fromnumeric.py\u001b[0m in \u001b[0;36m_wrapfunc\u001b[1;34m(obj, method, *args, **kwds)\u001b[0m\n\u001b[0;32m     50\u001b[0m \u001b[1;32mdef\u001b[0m \u001b[0m_wrapfunc\u001b[0m\u001b[1;33m(\u001b[0m\u001b[0mobj\u001b[0m\u001b[1;33m,\u001b[0m \u001b[0mmethod\u001b[0m\u001b[1;33m,\u001b[0m \u001b[1;33m*\u001b[0m\u001b[0margs\u001b[0m\u001b[1;33m,\u001b[0m \u001b[1;33m**\u001b[0m\u001b[0mkwds\u001b[0m\u001b[1;33m)\u001b[0m\u001b[1;33m:\u001b[0m\u001b[1;33m\u001b[0m\u001b[0m\n\u001b[0;32m     51\u001b[0m     \u001b[1;32mtry\u001b[0m\u001b[1;33m:\u001b[0m\u001b[1;33m\u001b[0m\u001b[0m\n\u001b[1;32m---> 52\u001b[1;33m         \u001b[1;32mreturn\u001b[0m \u001b[0mgetattr\u001b[0m\u001b[1;33m(\u001b[0m\u001b[0mobj\u001b[0m\u001b[1;33m,\u001b[0m \u001b[0mmethod\u001b[0m\u001b[1;33m)\u001b[0m\u001b[1;33m(\u001b[0m\u001b[1;33m*\u001b[0m\u001b[0margs\u001b[0m\u001b[1;33m,\u001b[0m \u001b[1;33m**\u001b[0m\u001b[0mkwds\u001b[0m\u001b[1;33m)\u001b[0m\u001b[1;33m\u001b[0m\u001b[0m\n\u001b[0m\u001b[0;32m     53\u001b[0m \u001b[1;33m\u001b[0m\u001b[0m\n\u001b[0;32m     54\u001b[0m     \u001b[1;31m# An AttributeError occurs if the object does not have\u001b[0m\u001b[1;33m\u001b[0m\u001b[1;33m\u001b[0m\u001b[0m\n",
      "\u001b[1;31mKeyboardInterrupt\u001b[0m: "
     ]
    }
   ],
   "source": [
    "total_time = 0\n",
    "for i in range(20):\n",
    "    l, t = multinomial_loss(predictions, soft_encoded, weights)\n",
    "    total_time += t\n",
    "print(total_time)"
   ]
  },
  {
   "cell_type": "code",
   "execution_count": 35,
   "metadata": {
    "ExecuteTime": {
     "end_time": "2019-05-08T18:25:48.235703Z",
     "start_time": "2019-05-08T18:25:48.193817Z"
    },
    "collapsed": true
   },
   "outputs": [],
   "source": [
    "def get_weights(weights, i):\n",
    "    return weights[i]\n",
    "    \n",
    "def multinomial_loss(predictions, soft_encodeds, weights):\n",
    "    now = time.time()\n",
    "    \"\"\"\n",
    "    :param predictions: np.array, dimensions should be (n, h, w, q)\n",
    "    :param soft_encoded: np.array, dimensions should be (n, h, w, q)\n",
    "    Make sure all values are between 0 and 1, and that the sum of soft_encoded = 1\n",
    "    :return: loss\n",
    "    \"\"\"\n",
    "\n",
    "    losses = 0\n",
    "    \n",
    "    vs = np.apply_along_axis(np.argmax, 3, soft_encodeds)\n",
    "    func = np.vectorize(lambda x : weights[x])\n",
    "    vs = func(vs)\n",
    "    for i in range(predictions.shape[0]):\n",
    "        loss = 0\n",
    "        loss = vs[i] * np.dot(soft_encodeds[i], np.log(predictions[i] + 0.000000000000000001).transpose())\n",
    "        loss = np.diag(loss)\n",
    "        loss = - loss\n",
    "        loss = np.sum(loss)\n",
    "        losses += loss\n",
    "    time_taken = time.time() - now\n",
    "    print('Time taken:', time_taken, 'with loss', losses)\n",
    "\n",
    "    return losses, time_taken"
   ]
  },
  {
   "cell_type": "code",
   "execution_count": 37,
   "metadata": {
    "ExecuteTime": {
     "end_time": "2019-05-08T18:26:13.289669Z",
     "start_time": "2019-05-08T18:26:11.092547Z"
    }
   },
   "outputs": [
    {
     "ename": "ValueError",
     "evalue": "shapes (64,64,262) and (262,64,64) not aligned: 262 (dim 2) != 64 (dim 1)",
     "output_type": "error",
     "traceback": [
      "\u001b[1;31m---------------------------------------------------------------------------\u001b[0m",
      "\u001b[1;31mValueError\u001b[0m                                Traceback (most recent call last)",
      "\u001b[1;32m<ipython-input-37-03317d24e7f5>\u001b[0m in \u001b[0;36m<module>\u001b[1;34m()\u001b[0m\n\u001b[0;32m      1\u001b[0m \u001b[0mtotal_time\u001b[0m \u001b[1;33m=\u001b[0m \u001b[1;36m0\u001b[0m\u001b[1;33m\u001b[0m\u001b[0m\n\u001b[0;32m      2\u001b[0m \u001b[1;32mfor\u001b[0m \u001b[0mi\u001b[0m \u001b[1;32min\u001b[0m \u001b[0mrange\u001b[0m\u001b[1;33m(\u001b[0m\u001b[1;36m20\u001b[0m\u001b[1;33m)\u001b[0m\u001b[1;33m:\u001b[0m\u001b[1;33m\u001b[0m\u001b[0m\n\u001b[1;32m----> 3\u001b[1;33m     \u001b[0ml\u001b[0m\u001b[1;33m,\u001b[0m \u001b[0mt\u001b[0m \u001b[1;33m=\u001b[0m \u001b[0mmultinomial_loss\u001b[0m\u001b[1;33m(\u001b[0m\u001b[0mpredictions\u001b[0m\u001b[1;33m,\u001b[0m \u001b[0msoft_encoded\u001b[0m\u001b[1;33m,\u001b[0m \u001b[0mweights\u001b[0m\u001b[1;33m)\u001b[0m\u001b[1;33m\u001b[0m\u001b[0m\n\u001b[0m\u001b[0;32m      4\u001b[0m     \u001b[0mtotal_time\u001b[0m \u001b[1;33m+=\u001b[0m \u001b[0mt\u001b[0m\u001b[1;33m\u001b[0m\u001b[0m\n\u001b[0;32m      5\u001b[0m \u001b[0mprint\u001b[0m\u001b[1;33m(\u001b[0m\u001b[0mtotal_time\u001b[0m\u001b[1;33m)\u001b[0m\u001b[1;33m\u001b[0m\u001b[0m\n",
      "\u001b[1;32m<ipython-input-35-cb649ae3c8ea>\u001b[0m in \u001b[0;36mmultinomial_loss\u001b[1;34m(predictions, soft_encodeds, weights)\u001b[0m\n\u001b[0;32m     18\u001b[0m     \u001b[1;32mfor\u001b[0m \u001b[0mi\u001b[0m \u001b[1;32min\u001b[0m \u001b[0mrange\u001b[0m\u001b[1;33m(\u001b[0m\u001b[0mpredictions\u001b[0m\u001b[1;33m.\u001b[0m\u001b[0mshape\u001b[0m\u001b[1;33m[\u001b[0m\u001b[1;36m0\u001b[0m\u001b[1;33m]\u001b[0m\u001b[1;33m)\u001b[0m\u001b[1;33m:\u001b[0m\u001b[1;33m\u001b[0m\u001b[0m\n\u001b[0;32m     19\u001b[0m         \u001b[0mloss\u001b[0m \u001b[1;33m=\u001b[0m \u001b[1;36m0\u001b[0m\u001b[1;33m\u001b[0m\u001b[0m\n\u001b[1;32m---> 20\u001b[1;33m         \u001b[0mloss\u001b[0m \u001b[1;33m=\u001b[0m \u001b[0mvs\u001b[0m\u001b[1;33m[\u001b[0m\u001b[0mi\u001b[0m\u001b[1;33m]\u001b[0m \u001b[1;33m*\u001b[0m \u001b[0mnp\u001b[0m\u001b[1;33m.\u001b[0m\u001b[0mdot\u001b[0m\u001b[1;33m(\u001b[0m\u001b[0msoft_encodeds\u001b[0m\u001b[1;33m[\u001b[0m\u001b[0mi\u001b[0m\u001b[1;33m]\u001b[0m\u001b[1;33m,\u001b[0m \u001b[0mnp\u001b[0m\u001b[1;33m.\u001b[0m\u001b[0mlog\u001b[0m\u001b[1;33m(\u001b[0m\u001b[0mpredictions\u001b[0m\u001b[1;33m[\u001b[0m\u001b[0mi\u001b[0m\u001b[1;33m]\u001b[0m \u001b[1;33m+\u001b[0m \u001b[1;36m0.000000000000000001\u001b[0m\u001b[1;33m)\u001b[0m\u001b[1;33m.\u001b[0m\u001b[0mtranspose\u001b[0m\u001b[1;33m(\u001b[0m\u001b[1;33m)\u001b[0m\u001b[1;33m)\u001b[0m\u001b[1;33m\u001b[0m\u001b[0m\n\u001b[0m\u001b[0;32m     21\u001b[0m         \u001b[0mloss\u001b[0m \u001b[1;33m=\u001b[0m \u001b[0mnp\u001b[0m\u001b[1;33m.\u001b[0m\u001b[0mdiag\u001b[0m\u001b[1;33m(\u001b[0m\u001b[0mloss\u001b[0m\u001b[1;33m)\u001b[0m\u001b[1;33m\u001b[0m\u001b[0m\n\u001b[0;32m     22\u001b[0m         \u001b[0mloss\u001b[0m \u001b[1;33m=\u001b[0m \u001b[1;33m-\u001b[0m \u001b[0mloss\u001b[0m\u001b[1;33m\u001b[0m\u001b[0m\n",
      "\u001b[1;31mValueError\u001b[0m: shapes (64,64,262) and (262,64,64) not aligned: 262 (dim 2) != 64 (dim 1)"
     ]
    }
   ],
   "source": [
    "total_time = 0\n",
    "for i in range(20):\n",
    "    l, t = multinomial_loss(predictions, soft_encoded, weights)\n",
    "    total_time += t\n",
    "print(total_time)"
   ]
  },
  {
   "cell_type": "code",
   "execution_count": null,
   "metadata": {
    "collapsed": true
   },
   "outputs": [],
   "source": []
  },
  {
   "cell_type": "code",
   "execution_count": null,
   "metadata": {
    "collapsed": true
   },
   "outputs": [],
   "source": []
  },
  {
   "cell_type": "code",
   "execution_count": null,
   "metadata": {
    "collapsed": true
   },
   "outputs": [],
   "source": []
  },
  {
   "cell_type": "code",
   "execution_count": null,
   "metadata": {
    "collapsed": true
   },
   "outputs": [],
   "source": []
  },
  {
   "cell_type": "code",
   "execution_count": null,
   "metadata": {
    "collapsed": true
   },
   "outputs": [],
   "source": []
  },
  {
   "cell_type": "code",
   "execution_count": null,
   "metadata": {
    "collapsed": true
   },
   "outputs": [],
   "source": []
  },
  {
   "cell_type": "code",
   "execution_count": null,
   "metadata": {
    "collapsed": true
   },
   "outputs": [],
   "source": []
  },
  {
   "cell_type": "code",
   "execution_count": null,
   "metadata": {
    "collapsed": true
   },
   "outputs": [],
   "source": []
  },
  {
   "cell_type": "code",
   "execution_count": null,
   "metadata": {
    "collapsed": true
   },
   "outputs": [],
   "source": []
  },
  {
   "cell_type": "code",
   "execution_count": null,
   "metadata": {
    "collapsed": true
   },
   "outputs": [],
   "source": []
  },
  {
   "cell_type": "code",
   "execution_count": null,
   "metadata": {
    "collapsed": true
   },
   "outputs": [],
   "source": []
  },
  {
   "cell_type": "code",
   "execution_count": null,
   "metadata": {
    "collapsed": true
   },
   "outputs": [],
   "source": []
  },
  {
   "cell_type": "code",
   "execution_count": null,
   "metadata": {
    "collapsed": true
   },
   "outputs": [],
   "source": []
  },
  {
   "cell_type": "code",
   "execution_count": null,
   "metadata": {
    "collapsed": true
   },
   "outputs": [],
   "source": []
  },
  {
   "cell_type": "code",
   "execution_count": null,
   "metadata": {
    "collapsed": true
   },
   "outputs": [],
   "source": []
  },
  {
   "cell_type": "code",
   "execution_count": null,
   "metadata": {
    "collapsed": true
   },
   "outputs": [],
   "source": []
  },
  {
   "cell_type": "code",
   "execution_count": null,
   "metadata": {
    "collapsed": true
   },
   "outputs": [],
   "source": []
  },
  {
   "cell_type": "code",
   "execution_count": null,
   "metadata": {
    "collapsed": true
   },
   "outputs": [],
   "source": []
  },
  {
   "cell_type": "code",
   "execution_count": null,
   "metadata": {
    "collapsed": true
   },
   "outputs": [],
   "source": []
  }
 ],
 "metadata": {
  "kernelspec": {
   "display_name": "Python 3",
   "language": "python",
   "name": "python3"
  },
  "language_info": {
   "codemirror_mode": {
    "name": "ipython",
    "version": 3
   },
   "file_extension": ".py",
   "mimetype": "text/x-python",
   "name": "python",
   "nbconvert_exporter": "python",
   "pygments_lexer": "ipython3",
   "version": "3.6.3"
  },
  "toc": {
   "base_numbering": 1,
   "nav_menu": {},
   "number_sections": true,
   "sideBar": true,
   "skip_h1_title": false,
   "title_cell": "Table of Contents",
   "title_sidebar": "Contents",
   "toc_cell": false,
   "toc_position": {},
   "toc_section_display": true,
   "toc_window_display": true
  }
 },
 "nbformat": 4,
 "nbformat_minor": 2
}
